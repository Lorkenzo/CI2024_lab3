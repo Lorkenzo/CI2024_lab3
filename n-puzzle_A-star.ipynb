{
 "cells": [
  {
   "cell_type": "markdown",
   "metadata": {},
   "source": [
    "# N-PUZZLE GREEDY LAYER SOLUTION"
   ]
  },
  {
   "cell_type": "code",
   "execution_count": 198,
   "metadata": {},
   "outputs": [],
   "source": [
    "import heapq\n",
    "import json\n",
    "from collections import namedtuple\n",
    "import random\n",
    "from tqdm.auto import tqdm\n",
    "import numpy as np "
   ]
  },
  {
   "cell_type": "code",
   "execution_count": 199,
   "metadata": {},
   "outputs": [],
   "source": [
    "PUZZLE_DIM = 4\n",
    "RANDOMIZE_STEPS = 100_000 * (PUZZLE_DIM // 3)\n",
    "FINAL_STATE = np.array([i for i in range(1, PUZZLE_DIM**2)] + [0]).reshape((PUZZLE_DIM, PUZZLE_DIM))\n",
    "\n",
    "action = namedtuple('Action', ['pos1', 'pos2'])"
   ]
  },
  {
   "cell_type": "markdown",
   "metadata": {},
   "source": [
    "## Helper functions"
   ]
  },
  {
   "cell_type": "code",
   "execution_count": 200,
   "metadata": {},
   "outputs": [],
   "source": [
    "def available_actions(state: np.ndarray) -> list['Action']:\n",
    "    x, y = [int(_[0]) for _ in np.where(state == 0)]\n",
    "    actions = list()\n",
    "    if x > 0:\n",
    "        actions.append(action((x, y), (x - 1, y)))\n",
    "    if x < PUZZLE_DIM - 1:\n",
    "        actions.append(action((x, y), (x + 1, y)))\n",
    "    if y > 0:\n",
    "        actions.append(action((x, y), (x, y - 1)))\n",
    "    if y < PUZZLE_DIM - 1:\n",
    "        actions.append(action((x, y), (x, y + 1)))\n",
    "    return actions\n",
    "\n",
    "def do_action(state: np.ndarray, action: 'Action') -> np.ndarray:\n",
    "    ''' Change the current state applying one action'''\n",
    "    new_state = state.copy()\n",
    "    new_state[action.pos1], new_state[action.pos2] = new_state[action.pos2], new_state[action.pos1]\n",
    "    return new_state\n",
    "\n",
    "def is_final_sol(state: np.ndarray) -> bool:\n",
    "    '''Check the final state'''\n",
    "    return np.array_equal(state, FINAL_STATE)"
   ]
  },
  {
   "cell_type": "code",
   "execution_count": 201,
   "metadata": {},
   "outputs": [],
   "source": [
    "def to_tuple(state: np.ndarray) -> tuple:\n",
    "        return tuple(state.flatten())"
   ]
  },
  {
   "cell_type": "markdown",
   "metadata": {},
   "source": [
    "## Random Initialization"
   ]
  },
  {
   "cell_type": "markdown",
   "metadata": {},
   "source": [
    "Reproducible Initialization (Not used in this case to compare the result with the layer solution)"
   ]
  },
  {
   "cell_type": "code",
   "execution_count": 202,
   "metadata": {},
   "outputs": [
    {
     "name": "stderr",
     "output_type": "stream",
     "text": [
      "Randomizing: 100%|██████████| 100000/100000 [00:01<00:00, 78826.08it/s]"
     ]
    },
    {
     "name": "stdout",
     "output_type": "stream",
     "text": [
      "Initial state: \n"
     ]
    },
    {
     "name": "stderr",
     "output_type": "stream",
     "text": [
      "\n"
     ]
    },
    {
     "data": {
      "text/plain": [
       "array([[14, 11, 13,  9],\n",
       "       [15,  5,  7,  0],\n",
       "       [10,  4,  2,  6],\n",
       "       [12,  8,  1,  3]])"
      ]
     },
     "execution_count": 202,
     "metadata": {},
     "output_type": "execute_result"
    }
   ],
   "source": [
    "random.seed(RANDOMIZE_STEPS)\n",
    "\n",
    "curr_state = FINAL_STATE\n",
    "for r in tqdm(range(RANDOMIZE_STEPS), desc='Randomizing'):\n",
    "    curr_state = do_action(curr_state, random.choice(available_actions(curr_state)))\n",
    "    \n",
    "print(\"Initial state: \")    \n",
    "curr_state"
   ]
  },
  {
   "cell_type": "markdown",
   "metadata": {},
   "source": [
    "Initialization Taken from layer solver in order to compare the two methods"
   ]
  },
  {
   "cell_type": "code",
   "execution_count": 203,
   "metadata": {},
   "outputs": [],
   "source": [
    "if PUZZLE_DIM == 3:\n",
    "    curr_state = np.array([\n",
    "        [5, 4, 6],\n",
    "        [8, 7, 2],\n",
    "        [0, 1, 3]])\n",
    "elif PUZZLE_DIM == 4:\n",
    "    curr_state = np.array([\n",
    "        [ 8,  4,  0,  5],\n",
    "        [ 9, 13, 15,  7],\n",
    "        [10, 11,  6, 12],\n",
    "        [ 1,  2,  3, 14]])"
   ]
  },
  {
   "cell_type": "markdown",
   "metadata": {},
   "source": [
    "## Distance Functions"
   ]
  },
  {
   "cell_type": "code",
   "execution_count": 204,
   "metadata": {},
   "outputs": [],
   "source": [
    "def manhattan_distance(state: np.ndarray) -> int:\n",
    "    '''Return The manattan distance between current position and final position'''\n",
    "    distance = 0\n",
    "    for x in range(PUZZLE_DIM):\n",
    "        for y in range(PUZZLE_DIM):\n",
    "            value = state[x, y]\n",
    "            if value != 0:  # Ignora il vuoto\n",
    "                target_x, target_y = np.where(FINAL_STATE==value)\n",
    "                distance += abs(x - target_x) + abs(y - target_y)\n",
    "    return distance"
   ]
  },
  {
   "cell_type": "markdown",
   "metadata": {},
   "source": [
    "## A-Star solver"
   ]
  },
  {
   "cell_type": "markdown",
   "metadata": {},
   "source": [
    "#### Solve with A-Star Algorithm"
   ]
  },
  {
   "cell_type": "code",
   "execution_count": 205,
   "metadata": {},
   "outputs": [],
   "source": [
    "def a_star_solver(initial_state: np.ndarray) -> list[np.ndarray]:\n",
    "    \"\"\"Trova la soluzione del puzzle usando A*.\"\"\"\n",
    "    open_set = []\n",
    "    initial_tuple = to_tuple(initial_state)\n",
    "    final_tuple = to_tuple(FINAL_STATE)\n",
    "    heapq.heappush(open_set, (0, initial_tuple))\n",
    "    came_from = {}\n",
    "    g_score = {initial_tuple: 0}\n",
    "    f_score = {initial_tuple: manhattan_distance(initial_state)}\n",
    "\n",
    "    visited = set()\n",
    "\n",
    "    while open_set:\n",
    "        _, current_tuple = heapq.heappop(open_set)\n",
    "\n",
    "        if current_tuple in visited:\n",
    "            continue\n",
    "        visited.add(current_tuple)\n",
    "\n",
    "        # Convert tuple back to NumPy array\n",
    "        current = np.array(current_tuple).reshape(initial_state.shape)\n",
    "\n",
    "        # Check if we've found the solution\n",
    "        if current_tuple == final_tuple:\n",
    "            # Reconstruct the path\n",
    "            path = []\n",
    "            while current_tuple in came_from:\n",
    "                path.append(np.array(current_tuple).reshape(initial_state.shape))\n",
    "                current_tuple = came_from[current_tuple]\n",
    "            path.append(initial_state)\n",
    "            return path[::-1]\n",
    "\n",
    "        # Expand neighbors\n",
    "        for action in available_actions(current):\n",
    "            neighbor = do_action(current, action)\n",
    "            neighbor_tuple = to_tuple(neighbor)\n",
    "\n",
    "            if neighbor_tuple in visited:\n",
    "                continue\n",
    "\n",
    "            tentative_g_score = g_score[current_tuple] + 1\n",
    "\n",
    "            if neighbor_tuple not in g_score or tentative_g_score < g_score[neighbor_tuple]:\n",
    "                came_from[neighbor_tuple] = current_tuple\n",
    "                g_score[neighbor_tuple] = tentative_g_score\n",
    "                f_score[neighbor_tuple] = tentative_g_score + manhattan_distance(neighbor)\n",
    "                heapq.heappush(open_set, (f_score[neighbor_tuple], neighbor_tuple))\n",
    "\n",
    "    return None"
   ]
  },
  {
   "cell_type": "code",
   "execution_count": 206,
   "metadata": {},
   "outputs": [
    {
     "name": "stdout",
     "output_type": "stream",
     "text": [
      "Total moves: 55\n",
      "Final State:\n",
      "[[ 1  2  3  4]\n",
      " [ 5  6  7  8]\n",
      " [ 9 10 11 12]\n",
      " [13 14 15  0]]\n"
     ]
    }
   ],
   "source": [
    "path = a_star_solver(curr_state)\n",
    "\n",
    "print(f\"Total moves: {len(path)}\")\n",
    "print(\"Final State:\")\n",
    "print(path[-1])"
   ]
  }
 ],
 "metadata": {
  "kernelspec": {
   "display_name": "CI2024_lab1",
   "language": "python",
   "name": "python3"
  },
  "language_info": {
   "codemirror_mode": {
    "name": "ipython",
    "version": 3
   },
   "file_extension": ".py",
   "mimetype": "text/x-python",
   "name": "python",
   "nbconvert_exporter": "python",
   "pygments_lexer": "ipython3",
   "version": "3.9.13"
  }
 },
 "nbformat": 4,
 "nbformat_minor": 2
}

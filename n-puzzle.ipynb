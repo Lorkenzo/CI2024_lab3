{
 "cells": [
  {
   "cell_type": "markdown",
   "metadata": {
    "vscode": {
     "languageId": "plaintext"
    }
   },
   "source": [
    "Copyright **`(c)`** 2024 Giovanni Squillero `<giovanni.squillero@polito.it>`  \n",
    "[`https://github.com/squillero/computational-intelligence`](https://github.com/squillero/computational-intelligence)  \n",
    "Free under certain conditions — see the [`license`](https://github.com/squillero/computational-intelligence/blob/master/LICENSE.md) for details.  "
   ]
  },
  {
   "cell_type": "code",
   "execution_count": 165,
   "metadata": {},
   "outputs": [],
   "source": [
    "import heapq\n",
    "import json\n",
    "from collections import namedtuple\n",
    "from random import choice\n",
    "from tqdm.auto import tqdm\n",
    "import numpy as np"
   ]
  },
  {
   "cell_type": "code",
   "execution_count": 166,
   "metadata": {},
   "outputs": [],
   "source": [
    "PUZZLE_DIM = 3\n",
    "RANDOMIZE_STEPS = 100_000\n",
    "FINAL_STATE = np.array([i for i in range(1, PUZZLE_DIM**2)] + [0]).reshape((PUZZLE_DIM, PUZZLE_DIM))\n",
    "\n",
    "action = namedtuple('Action', ['pos1', 'pos2'])"
   ]
  },
  {
   "cell_type": "markdown",
   "metadata": {},
   "source": [
    "## Helper functions"
   ]
  },
  {
   "cell_type": "code",
   "execution_count": 167,
   "metadata": {},
   "outputs": [],
   "source": [
    "def available_actions(state: np.ndarray, preferencial_dir=None) -> list[\"Action\"]:\n",
    "    x, y = [int(_[0]) for _ in np.where(state == 0)]  \n",
    "    actions = []  \n",
    "    \n",
    "    # move definition\n",
    "    if x > 0:  # up\n",
    "        actions.append(action((x, y), (x - 1, y)))\n",
    "    if y < PUZZLE_DIM - 1:  # right\n",
    "        actions.append(action((x, y), (x, y + 1)))\n",
    "    if y > 0:  # left\n",
    "        actions.append(action((x, y), (x, y - 1)))\n",
    "    if x < PUZZLE_DIM - 1:  # down\n",
    "        actions.append(action((x, y), (x + 1, y)))\n",
    "    \n",
    "    # preferencial directions\n",
    "    direction_order = {\n",
    "        \"up\": [\"up\", \"right\", \"left\", \"down\"],\n",
    "        \"down\": [\"down\", \"right\", \"left\", \"up\"],\n",
    "        \"right\": [\"right\", \"down\", \"up\", \"left\"],\n",
    "        \"left\": [\"left\", \"down\", \"up\", \"right\"],\n",
    "        None: [\"left\",\"up\",\"right\", \"down\"], \n",
    "    }\n",
    "    \n",
    "    # Map actions and strings if they are present\n",
    "    action_map = {\n",
    "        \"up\": action((x, y), (x - 1, y)) if x > 0 else None,\n",
    "        \"right\": action((x, y), (x, y + 1)) if y < PUZZLE_DIM - 1 else None,\n",
    "        \"left\": action((x, y), (x, y - 1)) if y > 0 else None,\n",
    "        \"down\": action((x, y), (x + 1, y)) if x < PUZZLE_DIM - 1 else None,\n",
    "    }\n",
    "    \n",
    "    # Ordina le azioni disponibili secondo il preferencial_dir\n",
    "    sorted_actions = [\n",
    "        action_map[dir] for dir in direction_order[preferencial_dir] if action_map[dir] is not None\n",
    "    ]\n",
    "    \n",
    "    return sorted_actions\n",
    "\n",
    "def do_action(state: np.ndarray, action: 'Action') -> np.ndarray:\n",
    "    new_state = state.copy()\n",
    "    new_state[action.pos1], new_state[action.pos2] = new_state[action.pos2], new_state[action.pos1]\n",
    "    return new_state\n",
    "\n",
    "def is_final_sol(state: np.ndarray) -> bool:\n",
    "    return np.array_equal(state, FINAL_STATE)"
   ]
  },
  {
   "cell_type": "markdown",
   "metadata": {},
   "source": [
    "## Random Initialization"
   ]
  },
  {
   "cell_type": "code",
   "execution_count": 168,
   "metadata": {},
   "outputs": [
    {
     "name": "stderr",
     "output_type": "stream",
     "text": [
      "Randomizing: 100%|██████████| 100000/100000 [00:00<00:00, 122846.65it/s]\n"
     ]
    },
    {
     "data": {
      "text/plain": [
       "array([[0, 8, 5],\n",
       "       [6, 3, 2],\n",
       "       [7, 1, 4]])"
      ]
     },
     "execution_count": 168,
     "metadata": {},
     "output_type": "execute_result"
    }
   ],
   "source": [
    "curr_state = FINAL_STATE\n",
    "for r in tqdm(range(RANDOMIZE_STEPS), desc='Randomizing'):\n",
    "    curr_state = do_action(curr_state, choice(available_actions(curr_state)))\n",
    "curr_state"
   ]
  },
  {
   "cell_type": "markdown",
   "metadata": {},
   "source": [
    "## Move Functions"
   ]
  },
  {
   "cell_type": "code",
   "execution_count": 169,
   "metadata": {},
   "outputs": [],
   "source": [
    "def distance_between(x1,y1,x2,y2):\n",
    "    return  np.abs(x1 - x2) + np.abs(y1 - y2)"
   ]
  },
  {
   "cell_type": "code",
   "execution_count": 170,
   "metadata": {},
   "outputs": [],
   "source": [
    "def actions_from_zero_to_point(state:np.ndarray,x,y):\n",
    "    path = []\n",
    "    current = state\n",
    "    n = current[x,y]\n",
    "    x0, y0 = np.where(current==0)\n",
    "    while distance_between(x,y,x0,y0) > 1:\n",
    "        for a in available_actions(current):\n",
    "            next = do_action(current,a)\n",
    "            nx0, ny0 = np.where(next==0)\n",
    "            if distance_between(x,y,nx0,ny0)< distance_between(x,y,x0,y0) and current[nx0,ny0] > n:\n",
    "                current = next\n",
    "                path.append(current)\n",
    "                print(current)\n",
    "                x0, y0 = nx0, ny0\n",
    "                break\n",
    "    return path, current"
   ]
  },
  {
   "cell_type": "code",
   "execution_count": 171,
   "metadata": {},
   "outputs": [],
   "source": [
    "def put_zero_below(state:np.ndarray, x, y, dir):\n",
    "    path = []\n",
    "    current = state\n",
    "    n = current[x,y]\n",
    "    x0, y0 = np.where(current==0)\n",
    "\n",
    "    while distance_between(x+1,y,x0,y0) != 0:\n",
    "        for a in available_actions(current,dir):\n",
    "            next = do_action(current,a)\n",
    "            nx0, ny0 = np.where(next==0)\n",
    "            if distance_between(x+1,y,nx0,ny0)< distance_between(x+1,y,x0,y0) and next[x,y]==n:\n",
    "                current = next\n",
    "                path.append(current)\n",
    "                print(current)\n",
    "                x0, y0 = nx0, ny0\n",
    "                break\n",
    "    return path, current"
   ]
  },
  {
   "cell_type": "code",
   "execution_count": 172,
   "metadata": {},
   "outputs": [],
   "source": [
    "def slide_row(state:np.ndarray):\n",
    "    current = state\n",
    "    path = []\n",
    "    x0, y0 = np.where(current==0)\n",
    "    d_x, d_y = x0 -1 , len(FINAL_STATE)-1 \n",
    "    while distance_between(d_x,d_y,x0,y0) != 0:\n",
    "        for a in available_actions(current,\"up\"):\n",
    "            next = do_action(current,a)\n",
    "            nx0, ny0 = np.where(next==0)\n",
    "            if distance_between(d_x,d_y,nx0,ny0)< distance_between(d_x,d_y,x0,y0):\n",
    "                current = next\n",
    "                path.append(current)\n",
    "                print(current)\n",
    "                x0, y0 = nx0, ny0\n",
    "                break\n",
    "    return path, current\n",
    "    "
   ]
  },
  {
   "cell_type": "code",
   "execution_count": 173,
   "metadata": {},
   "outputs": [],
   "source": [
    "def slide_row_back(state:np.ndarray):\n",
    "    current = state\n",
    "    path = []\n",
    "    x0, y0 = np.where(current==0)\n",
    "    d_x, d_y = x0 + 1 , 0\n",
    "    while distance_between(d_x,d_y,x0,y0) != 0:\n",
    "        for a in available_actions(current,\"left\"):\n",
    "            next = do_action(current,a)\n",
    "            nx0, ny0 = np.where(next==0)\n",
    "            if distance_between(d_x,d_y,nx0,ny0)< distance_between(d_x,d_y,x0,y0):\n",
    "                current = next\n",
    "                path.append(current)\n",
    "                print(current)\n",
    "                x0, y0 = nx0, ny0\n",
    "                break\n",
    "    return path, current"
   ]
  },
  {
   "cell_type": "code",
   "execution_count": 174,
   "metadata": {},
   "outputs": [],
   "source": [
    "def put_last_right(state:np.ndarray):\n",
    "    current = state\n",
    "    path = []\n",
    "    x,y = np.where(current==0)\n",
    "    move_set= [\n",
    "        action((x, y), (x + 1, y)), #down\n",
    "        action((x + 1, y), (x + 1, y - 1)), #left\n",
    "        action((x + 1, y - 1), (x, y - 1)) #up\n",
    "    ]\n",
    "    for act in move_set:\n",
    "        current = do_action(current,act)\n",
    "        print(current)\n",
    "        path.append(current)\n",
    "        \n",
    "    return path, current"
   ]
  },
  {
   "cell_type": "code",
   "execution_count": 175,
   "metadata": {},
   "outputs": [],
   "source": [
    "def action_move_right_col(state:np.ndarray,x,y):\n",
    "    '''moves a number to the correct y position'''\n",
    "    path = []\n",
    "    current = state\n",
    "    n = current[x,y]\n",
    "    x0, y0 = np.where(current==0)\n",
    "    x_f, y_f = np.where(FINAL_STATE==n) \n",
    "    if y_f == len(FINAL_STATE)-1:\n",
    "        x_f+=1\n",
    "    prev_x0,prev_y0 = x0,y0\n",
    "    while y != y_f:\n",
    "        if y<y_f:\n",
    "            # move n right\n",
    "            while (y0,x0)!=(y+1,x):\n",
    "                same_line = x0==x\n",
    "                for a in available_actions(current,\"right\"):\n",
    "                    next = do_action(current,a)\n",
    "                    nx0, ny0 = np.where(next==0)\n",
    "                    if next[x,y]==n and np.abs(y-ny0) < 2 and np.abs(x-nx0) < 2 and (nx0,ny0)!=(prev_x0,prev_y0):\n",
    "                        if ( ( same_line and np.abs(ny0-(y+1))<=np.abs(y0-(y+1)) ) or ( not same_line and distance_between(nx0,ny0,x,y+1)<distance_between(x0,y0,x,y+1) ) ):\n",
    "                            prev_x0, prev_y0 = x0,y0\n",
    "                            current = next\n",
    "                            path.append(current)\n",
    "                            print(current)\n",
    "\n",
    "                            x0, y0 = nx0, ny0\n",
    "                            break\n",
    "            left = action((x0, y0), (x0, y0 - 1))\n",
    "            current = do_action(current,left)\n",
    "            path.append(current)\n",
    "            print(current)\n",
    "\n",
    "            x,y = np.where(current==n)\n",
    "            x0, y0 = np.where(current==0)\n",
    "        else:\n",
    "            # move n left\n",
    "            while (y0,x0)!=(y-1,x):\n",
    "                same_line = x0==x\n",
    "                for a in available_actions(current,\"left\"):\n",
    "                    next = do_action(current,a)\n",
    "                    nx0, ny0 = np.where(next==0)\n",
    "                    if next[x,y]==n and np.abs(y-ny0) < 2 and np.abs(x-nx0) < 2 and (nx0,ny0)!=(prev_x0,prev_y0):\n",
    "                        if ( ( same_line and np.abs(ny0-(y-1))<=np.abs(y0-(y-1)) ) or ( not same_line and distance_between(nx0,ny0,x,y-1)<distance_between(x0,y0,x,y-1) ) ):\n",
    "                            prev_x0, prev_y0 = x0,y0\n",
    "                            current = next\n",
    "                            path.append(current)\n",
    "                            print(current)\n",
    "\n",
    "                            x0, y0 = nx0, ny0\n",
    "                            break\n",
    "            right = action((x0, y0), (x0, y0 + 1))\n",
    "            current = do_action(current,right)\n",
    "            print(current)\n",
    "\n",
    "            path.append(current)\n",
    "            x,y = np.where(current==n)\n",
    "            x0, y0 = np.where(current==0)\n",
    "    return path, current"
   ]
  },
  {
   "cell_type": "code",
   "execution_count": 176,
   "metadata": {},
   "outputs": [],
   "source": [
    "def action_move_right_row(state:np.ndarray,x,y):\n",
    "    '''moves a number to the correct x position'''\n",
    "    path = []\n",
    "    current = state\n",
    "    n = current[x,y]\n",
    "    x0, y0 = np.where(current==0)\n",
    "    x_f, y_f = np.where(FINAL_STATE==n) \n",
    "    if y_f == len(FINAL_STATE)-1:\n",
    "        x_f +=1\n",
    "    prev_x0,prev_y0 = x0,y0\n",
    "    while x != x_f:\n",
    "        if x<x_f:\n",
    "            # move n down\n",
    "            while (y0,x0)!=(y,x+1):\n",
    "                same_col = y0==y\n",
    "                for a in available_actions(current, \"down\"):\n",
    "                    next = do_action(current,a)\n",
    "                    nx0, ny0 = np.where(next==0)\n",
    "                    if next[x,y]==n and np.abs(y-ny0) < 2 and np.abs(x-nx0) < 2 and (nx0,ny0)!=(prev_x0,prev_y0):\n",
    "                        if ( ( same_col and np.abs(nx0-(x+1)) <= np.abs(x0-(x+1)) ) or ( not same_col and distance_between(nx0,ny0,x+1,y)<distance_between(x0,y0,x+1,y)  ) ):\n",
    "                            prev_x0, prev_y0 = x0,y0\n",
    "                            current = next\n",
    "                            path.append(current)\n",
    "                            x0, y0 = nx0, ny0\n",
    "                            break\n",
    "            up = action((x0, y0), (x0 - 1, y0))\n",
    "            current = do_action(current,up)\n",
    "            path.append(current)\n",
    "            x,y = np.where(current==n)\n",
    "            x0, y0 = np.where(current==0)\n",
    "        else:\n",
    "            # move n up\n",
    "            if ((x,y)==(x_f+1,y_f) and (x0,y0)!=(x_f+1,y_f) and n>1 and y0 < y):\n",
    "                moves, current = put_zero_below(current,x,y,\"right\")\n",
    "                path.extend(moves)\n",
    "                x,y = np.where(current==n)\n",
    "                x0, y0 = np.where(current==0)\n",
    "            while (y0,x0)!=(y,x-1):\n",
    "                same_col = y0==y\n",
    "                for a in available_actions(current, \"up\"):\n",
    "                    next = do_action(current,a)\n",
    "                    nx0, ny0 = np.where(next==0)\n",
    "                    if next[x,y]==n and np.abs(y-ny0) < 2 and np.abs(x-nx0) < 2 and (nx0,ny0)!=(prev_x0,prev_y0) :\n",
    "                        if ( ( same_col and np.abs(nx0-(x-1)) <= np.abs(x0-(x-1)) ) or ( not same_col and distance_between(nx0,ny0,x-1,y)<distance_between(x0,y0,x-1,y)  ) ):\n",
    "                            prev_x0, prev_y0 = x0,y0\n",
    "                            current = next\n",
    "                            path.append(current)\n",
    "                            print(current)\n",
    "                            x0, y0 = nx0, ny0\n",
    "                            break\n",
    "            down = action((x0, y0), (x0 + 1, y0))\n",
    "            current = do_action(current,down)\n",
    "            path.append(current)\n",
    "            print(current)\n",
    "            x,y = np.where(current==n)\n",
    "            x0, y0 = np.where(current==0)\n",
    "    return path, current"
   ]
  },
  {
   "cell_type": "code",
   "execution_count": 177,
   "metadata": {},
   "outputs": [],
   "source": [
    "from dataclasses import dataclass\n",
    "\n",
    "@dataclass\n",
    "class Story_Item:\n",
    "    score: int\n",
    "    pattern : list"
   ]
  },
  {
   "cell_type": "code",
   "execution_count": 178,
   "metadata": {},
   "outputs": [],
   "source": [
    "def manhattan_distance(state: np.ndarray) -> int:\n",
    "    \"\"\"Calcola la distanza di Manhattan per tutte le tessere.\"\"\"\n",
    "    distance = 0\n",
    "    for x in range(PUZZLE_DIM):\n",
    "        for y in range(PUZZLE_DIM):\n",
    "            value = state[x, y]\n",
    "            if value != 0:  # Ignora il vuoto\n",
    "                target_x, target_y = np.where(FINAL_STATE==value)\n",
    "                distance += abs(x - target_x) + abs(y - target_y)\n",
    "    return distance"
   ]
  },
  {
   "cell_type": "code",
   "execution_count": 179,
   "metadata": {},
   "outputs": [],
   "source": [
    "def manhattan_distance_point(state: np.ndarray, x, y) -> int:\n",
    "    \"\"\"Calcola la distanza di Manhattan per un punto.\"\"\"\n",
    "    distance = 0\n",
    "    target_x, target_y = np.where(FINAL_STATE==state[x,y])\n",
    "    distance += abs(x - target_x) + abs(y - target_y)\n",
    "    return distance"
   ]
  },
  {
   "cell_type": "code",
   "execution_count": 180,
   "metadata": {},
   "outputs": [],
   "source": [
    "def lead_n_to_pos(state:np.ndarray,n:int):\n",
    "    current = state\n",
    "    path = []\n",
    "    x , y = np.where(current==n)\n",
    "    x_f, y_f = np.where(FINAL_STATE==n) \n",
    "    # Move zero near to number to move\n",
    "    if ((x,y)!=(x_f,y_f)):\n",
    "        steps, current = actions_from_zero_to_point(current,x,y)\n",
    "        path.extend(steps)\n",
    "        x , y = np.where(current==n)\n",
    "    # move the number to right col\n",
    "    steps, current = action_move_right_col(current,x,y)\n",
    "    path.extend(steps)\n",
    "    x , y = np.where(current==n)\n",
    "    # move number to right row\n",
    "    steps, current = action_move_right_row(current,x,y)\n",
    "    path.extend(steps)\n",
    "    #print(path[-1])\n",
    "    return path, current\n"
   ]
  },
  {
   "cell_type": "code",
   "execution_count": 181,
   "metadata": {},
   "outputs": [],
   "source": [
    "#lead_n_to_pos(curr_state,1)"
   ]
  },
  {
   "cell_type": "markdown",
   "metadata": {},
   "source": [
    "## Layer Solving"
   ]
  },
  {
   "cell_type": "code",
   "execution_count": 182,
   "metadata": {},
   "outputs": [],
   "source": [
    "def solve_first_layer(state):\n",
    "    current = state\n",
    "    path = []\n",
    "    path.append(current)\n",
    "    # solve first n-1 number in the line\n",
    "    for n in range(1,FINAL_STATE.shape[0]+1):\n",
    "        moves_done, current = lead_n_to_pos(current,n)\n",
    "        path.extend(moves_done)\n",
    "\n",
    "    # move zero below 1 to be able to slide the row\n",
    "    x1, y1 = np.where(current==1)\n",
    "    moves_done, current = put_zero_below(current,x1,y1,\"left\")\n",
    "    path.extend(moves_done)\n",
    "\n",
    "    #slide the row in order to leave space for the last number\n",
    "    moves_done, current = slide_row(current)\n",
    "    path.extend(moves_done)\n",
    "\n",
    "    # put last number right and zero to the left\n",
    "    moves_done, current = put_last_right(current)\n",
    "    path.extend(moves_done)\n",
    "\n",
    "    #slide the row in order to leave space for the last number\n",
    "    moves_done, current = slide_row_back(current)\n",
    "    path.extend(moves_done)\n",
    "\n",
    "    return path"
   ]
  },
  {
   "cell_type": "code",
   "execution_count": 183,
   "metadata": {},
   "outputs": [
    {
     "name": "stdout",
     "output_type": "stream",
     "text": [
      "[[8 0 5]\n",
      " [6 3 2]\n",
      " [7 1 4]]\n",
      "[[8 3 5]\n",
      " [6 0 2]\n",
      " [7 1 4]]\n",
      "[[8 3 5]\n",
      " [0 6 2]\n",
      " [7 1 4]]\n",
      "[[8 3 5]\n",
      " [7 6 2]\n",
      " [0 1 4]]\n",
      "[[8 3 5]\n",
      " [7 6 2]\n",
      " [1 0 4]]\n",
      "[[8 3 5]\n",
      " [7 0 2]\n",
      " [1 6 4]]\n",
      "[[8 3 5]\n",
      " [0 7 2]\n",
      " [1 6 4]]\n",
      "[[8 3 5]\n",
      " [1 7 2]\n",
      " [0 6 4]]\n",
      "[[8 3 5]\n",
      " [1 7 2]\n",
      " [6 0 4]]\n",
      "[[8 3 5]\n",
      " [1 0 2]\n",
      " [6 7 4]]\n",
      "[[8 0 5]\n",
      " [1 3 2]\n",
      " [6 7 4]]\n",
      "[[0 8 5]\n",
      " [1 3 2]\n",
      " [6 7 4]]\n",
      "[[1 8 5]\n",
      " [0 3 2]\n",
      " [6 7 4]]\n",
      "[[1 8 5]\n",
      " [3 0 2]\n",
      " [6 7 4]]\n",
      "[[1 8 5]\n",
      " [3 2 0]\n",
      " [6 7 4]]\n",
      "[[1 8 0]\n",
      " [3 2 5]\n",
      " [6 7 4]]\n",
      "[[1 0 8]\n",
      " [3 2 5]\n",
      " [6 7 4]]\n",
      "[[1 2 8]\n",
      " [3 0 5]\n",
      " [6 7 4]]\n",
      "[[1 2 8]\n",
      " [0 3 5]\n",
      " [6 7 4]]\n",
      "[[1 2 8]\n",
      " [6 3 5]\n",
      " [0 7 4]]\n",
      "[[1 2 8]\n",
      " [6 3 5]\n",
      " [7 0 4]]\n",
      "[[1 2 8]\n",
      " [6 3 5]\n",
      " [7 4 0]]\n",
      "[[1 2 8]\n",
      " [6 3 0]\n",
      " [7 4 5]]\n",
      "[[1 2 8]\n",
      " [6 0 3]\n",
      " [7 4 5]]\n",
      "[[1 2 8]\n",
      " [0 6 3]\n",
      " [7 4 5]]\n",
      "[[0 2 8]\n",
      " [1 6 3]\n",
      " [7 4 5]]\n",
      "[[2 0 8]\n",
      " [1 6 3]\n",
      " [7 4 5]]\n",
      "[[2 8 0]\n",
      " [1 6 3]\n",
      " [7 4 5]]\n",
      "[[2 8 3]\n",
      " [1 6 0]\n",
      " [7 4 5]]\n",
      "[[2 8 3]\n",
      " [1 0 6]\n",
      " [7 4 5]]\n",
      "[[2 0 3]\n",
      " [1 8 6]\n",
      " [7 4 5]]\n",
      "[[0 2 3]\n",
      " [1 8 6]\n",
      " [7 4 5]]\n",
      "[[1 2 3]\n",
      " [0 8 6]\n",
      " [7 4 5]]\n"
     ]
    }
   ],
   "source": [
    "sol = solve_first_layer(curr_state)"
   ]
  },
  {
   "cell_type": "code",
   "execution_count": 184,
   "metadata": {},
   "outputs": [
    {
     "name": "stdout",
     "output_type": "stream",
     "text": [
      "N moves: 34\n"
     ]
    }
   ],
   "source": [
    "print(f\"N moves: {len(sol)}\")"
   ]
  },
  {
   "cell_type": "code",
   "execution_count": 185,
   "metadata": {},
   "outputs": [
    {
     "data": {
      "text/plain": [
       "array([[1, 2, 3],\n",
       "       [0, 8, 6],\n",
       "       [7, 4, 5]])"
      ]
     },
     "execution_count": 185,
     "metadata": {},
     "output_type": "execute_result"
    }
   ],
   "source": [
    "sol[-1]"
   ]
  },
  {
   "cell_type": "markdown",
   "metadata": {},
   "source": [
    "## A-Star solver"
   ]
  },
  {
   "cell_type": "code",
   "execution_count": 186,
   "metadata": {},
   "outputs": [],
   "source": [
    "def a_star_solver(initial_state: np.ndarray) -> list[np.ndarray]:\n",
    "    \"\"\"Trova la soluzione del puzzle usando A*.\"\"\"\n",
    "    # Strutture dati per A*\n",
    "    open_set = []\n",
    "    heapq.heappush(open_set, (0, json.dumps(initial_state.tolist())))\n",
    "    came_from = {}\n",
    "    g_score = {json.dumps(initial_state.tolist()): 0}\n",
    "    f_score = {json.dumps(initial_state.tolist()): manhattan_distance(initial_state)}\n",
    "\n",
    "    visited = set()\n",
    "\n",
    "    while open_set:\n",
    "        _, current_str = heapq.heappop(open_set)\n",
    "        current = np.array(json.loads(current_str))  # Convert string back to NumPy array\n",
    "        visited.add(current_str)\n",
    "\n",
    "        # Verifica se abbiamo trovato la soluzione\n",
    "        if np.array_equal(current, FINAL_STATE):\n",
    "            # Ricostruisci il percorso\n",
    "            path = []\n",
    "            while current_str in came_from:\n",
    "                path.append(np.array(json.loads(current_str)))\n",
    "                current_str = came_from[current_str]\n",
    "            path.append(FINAL_STATE)\n",
    "            return path[::-1]\n",
    "\n",
    "        # Espandi i nodi\n",
    "        for action in available_actions(current):\n",
    "            neighbor = do_action(current, action)\n",
    "            neighbor_str = json.dumps(neighbor.tolist())\n",
    "\n",
    "            if neighbor_str in visited:\n",
    "                continue\n",
    "\n",
    "            tentative_g_score = g_score[current_str] + 1\n",
    "\n",
    "            if neighbor_str not in g_score or tentative_g_score < g_score[neighbor_str]:\n",
    "                came_from[neighbor_str] = current_str\n",
    "                g_score[neighbor_str] = tentative_g_score\n",
    "                f_score[neighbor_str] = tentative_g_score + manhattan_distance(neighbor)\n",
    "                heapq.heappush(open_set, (f_score[neighbor_str], neighbor_str))\n",
    "\n",
    "    return None "
   ]
  },
  {
   "cell_type": "code",
   "execution_count": 187,
   "metadata": {},
   "outputs": [],
   "source": [
    "#solution = a_star_solver(curr_state)\n",
    "#print(solution)\n",
    "#print(f\"Mosse: {len(solution)}\")"
   ]
  }
 ],
 "metadata": {
  "kernelspec": {
   "display_name": "CI2024_lab1",
   "language": "python",
   "name": "python3"
  },
  "language_info": {
   "codemirror_mode": {
    "name": "ipython",
    "version": 3
   },
   "file_extension": ".py",
   "mimetype": "text/x-python",
   "name": "python",
   "nbconvert_exporter": "python",
   "pygments_lexer": "ipython3",
   "version": "3.9.13"
  }
 },
 "nbformat": 4,
 "nbformat_minor": 2
}
